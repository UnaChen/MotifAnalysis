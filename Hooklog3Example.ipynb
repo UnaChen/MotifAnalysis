{
 "cells": [
  {
   "cell_type": "markdown",
   "metadata": {},
   "source": [
    "### Hooklog3 Example"
   ]
  },
  {
   "cell_type": "code",
   "execution_count": 1,
   "metadata": {
    "collapsed": true
   },
   "outputs": [],
   "source": [
    "%run Hooklog3.ipynb"
   ]
  },
  {
   "cell_type": "code",
   "execution_count": 2,
   "metadata": {
    "collapsed": true
   },
   "outputs": [],
   "source": [
    "# input \n",
    "in_directory = \"C:/Users/hsiao/Dropbox/notebook/data/morstar/\" # make sure the last character is '/'\n",
    "in_tag = \"morstar\"\n",
    "in_parseFirstPar = True\n",
    "in_window = 1\n",
    "\n",
    "# output\n",
    "out_hl_list = None\n",
    "out_tag = in_tag\n",
    "\n",
    "# outfile\n",
    "out_picklefile = 'pickle/hl_list_'+ out_tag + '.pickle'"
   ]
  },
  {
   "cell_type": "code",
   "execution_count": 3,
   "metadata": {
    "collapsed": true
   },
   "outputs": [],
   "source": [
    "# Example\n",
    "import os\n",
    "\n",
    "hl_list = next(os.walk(in_directory))[2] # get all filenames in the in_directory\n",
    "hl_list = [os.path.join(in_directory, f) for f in hl_list] # filepathname list\n",
    "\n",
    "hl_list = list(filter(lambda f: f.endswith(\".hooklog\"), hl_list)) # in case some non-hooklog file in the folder\n",
    "\n",
    "for file in hl_list:\n",
    "    hl3 = Hooklog3(file, in_parseFirstPar)"
   ]
  },
  {
   "cell_type": "code",
   "execution_count": 4,
   "metadata": {},
   "outputs": [
    {
     "name": "stdout",
     "output_type": "stream",
     "text": [
      "=====\n",
      "class Hooklog3, C:/Users/hsiao/Dropbox/notebook/data/morstar/f9449d87262a5016f0993d99_1948.trace.hooklog, par = 1, len = 1214, digit name = f9449d-1948\n"
     ]
    }
   ],
   "source": [
    "# Test\n",
    "\n",
    "# print last hl3\n",
    "print(\"=====\")\n",
    "print(hl3)\n",
    "\n",
    "# get the api call sequence of last hk3\n",
    "#print(\"=====\")\n",
    "#for time, api in hl3.li:\n",
    "#    print(time, api)\n",
    "\n",
    "#print(\"=====\")\n",
    "# get the api call set of last hk3 with window size\n",
    "#for api in hl3.getWinSet(in_window):\n",
    "#    print(api)"
   ]
  },
  {
   "cell_type": "code",
   "execution_count": 5,
   "metadata": {
    "collapsed": true
   },
   "outputs": [],
   "source": [
    "# output\n",
    "import pickle\n",
    "\n",
    "out_hl_list = hl_list\n",
    "out_tag = in_tag\n",
    "with open(out_picklefile, 'wb') as o:\n",
    "    pickle.dump(out_hl_list, o)"
   ]
  }
 ],
 "metadata": {
  "kernelspec": {
   "display_name": "Python 3",
   "language": "python",
   "name": "python3"
  },
  "language_info": {
   "codemirror_mode": {
    "name": "ipython",
    "version": 3
   },
   "file_extension": ".py",
   "mimetype": "text/x-python",
   "name": "python",
   "nbconvert_exporter": "python",
   "pygments_lexer": "ipython3",
   "version": "3.6.0"
  }
 },
 "nbformat": 4,
 "nbformat_minor": 2
}
